{
 "cells": [
  {
   "cell_type": "code",
   "execution_count": null,
   "metadata": {},
   "outputs": [],
   "source": [
    "def is_equal( x: list[int], y: list[int]) -> bool:\n",
    "    \"\"\"Return True if every element at every index in equal in both lists\"\"\"\n",
    "    i = 0\n",
    "    a = []\n",
    "    if len(x) != len(y):\n",
    "        return False\n",
    "    else:\n",
    "        while i < len(x):\n",
    "            if x[i] == y[i]:\n",
    "                a.append(True)\n",
    "            else:\n",
    "                a.append(False)\n",
    "            i = i + 1\n",
    "        if False in a:\n",
    "            return False\n",
    "        else:\n",
    "            return True\n",
    "\n",
    "print(is_equal([1,2,3],[1,2]))"
   ]
  },
  {
   "cell_type": "code",
   "execution_count": null,
   "metadata": {},
   "outputs": [],
   "source": [
    "x: int = 1\n",
    "\n",
    "def f(y: int) -> int:\n",
    "  return x + y\n",
    "\n",
    "print(f(x + 1))"
   ]
  },
  {
   "cell_type": "code",
   "execution_count": null,
   "metadata": {},
   "outputs": [],
   "source": [
    "def count(x: list[str])-> dict[str, int]:\n",
    "    \"\"\"Given a list of values will return their numbers in the input list\"\"\"\n",
    "    emptylist={}\n",
    "    for i in x:\n",
    "        if i in emptylist:\n",
    "            emptylist[i] += 1\n",
    "        else:\n",
    "            emptylist[i] = 1\n",
    "    return emptylist\n",
    "\n",
    "a = []\n",
    "print(count(a))"
   ]
  },
  {
   "cell_type": "code",
   "execution_count": 5,
   "metadata": {},
   "outputs": [
    {
     "name": "stdout",
     "output_type": "stream",
     "text": [
      "[9]\n"
     ]
    }
   ],
   "source": [
    "def odd_even (x:list[int]) -> list[int]:\n",
    "    result = []\n",
    "    i = 0\n",
    "    while i < len(x):\n",
    "        if x[i] % 2 == 1 and i % 2 == 0:\n",
    "            result.append(x[i])\n",
    "        i = i + 1\n",
    "    return result\n",
    "\n",
    "x = [2,9,4,17,9]\n",
    "print(odd_even(x))"
   ]
  }
 ],
 "metadata": {
  "kernelspec": {
   "display_name": "Python 3.10.5 64-bit",
   "language": "python",
   "name": "python3"
  },
  "language_info": {
   "codemirror_mode": {
    "name": "ipython",
    "version": 3
   },
   "file_extension": ".py",
   "mimetype": "text/x-python",
   "name": "python",
   "nbconvert_exporter": "python",
   "pygments_lexer": "ipython3",
   "version": "3.10.5"
  },
  "orig_nbformat": 4,
  "vscode": {
   "interpreter": {
    "hash": "aee8b7b246df8f9039afb4144a1f6fd8d2ca17a180786b69acc140d282b71a49"
   }
  }
 },
 "nbformat": 4,
 "nbformat_minor": 2
}
